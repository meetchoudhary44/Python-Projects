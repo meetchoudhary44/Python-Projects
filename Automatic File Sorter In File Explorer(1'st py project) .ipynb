{
 "cells": [
  {
   "cell_type": "markdown",
   "id": "00e967e1-f6d4-4c56-acee-9e40878d1981",
   "metadata": {},
   "source": [
    "Automatic File Sorter In File Explorer"
   ]
  },
  {
   "cell_type": "code",
   "execution_count": 1,
   "id": "21000f09-90d0-4fa8-a0e5-bbd0faf561c7",
   "metadata": {},
   "outputs": [],
   "source": [
    "import os, shutil "
   ]
  },
  {
   "cell_type": "code",
   "execution_count": 2,
   "id": "94251a89-ddf9-4481-8dc8-1be8f2490d8b",
   "metadata": {},
   "outputs": [],
   "source": [
    "path = r\"C:/Python project data/\""
   ]
  },
  {
   "cell_type": "code",
   "execution_count": 3,
   "id": "ed436968-e059-40ef-82f0-224e7e869782",
   "metadata": {},
   "outputs": [],
   "source": [
    "file_name = os.listdir(path)\n",
    "#print (file_name) contains files (.xlsx, .pdf, .png)"
   ]
  },
  {
   "cell_type": "code",
   "execution_count": 4,
   "id": "9bb4033a-6747-49c3-91df-88e6109b8d45",
   "metadata": {},
   "outputs": [],
   "source": [
    "folder_name = [\"xlsx files\", \"Pdf files\", \"image files\"]\n",
    "for i in range (0,3):\n",
    "    if not os.path.exists(path + folder_name[i]):\n",
    "        os.makedirs(path + folder_name[i])\n",
    "\n",
    "\n",
    "for file in file_name:\n",
    "    if \".xlsx\" in file and not os.path.exists(path + \"xlsx files/\" + file):\n",
    "        shutil.move(path + file , path + \"xlsx files/\" + file)\n",
    "    elif \".pdf\" in file and not os.path.exists(path + \"Pdf files/\" + file):\n",
    "        shutil.move(path + file , path + \"Pdf files/\" + file)\n",
    "    elif \".png\" in file and not os.path.exists(path + \"image files/\" + file):\n",
    "        shutil.move(path + file , path + \"image files/\" + file)"
   ]
  },
  {
   "cell_type": "code",
   "execution_count": 26,
   "id": "653e32b8-7f71-4907-ba98-ca4c57cefda9",
   "metadata": {},
   "outputs": [],
   "source": []
  },
  {
   "cell_type": "code",
   "execution_count": null,
   "id": "41cccd3b-98be-4ba2-9fc4-14ded69d0d05",
   "metadata": {},
   "outputs": [],
   "source": []
  },
  {
   "cell_type": "code",
   "execution_count": null,
   "id": "cb38b512-230a-49c9-bc0e-17420336b126",
   "metadata": {},
   "outputs": [],
   "source": []
  }
 ],
 "metadata": {
  "kernelspec": {
   "display_name": "Python 3 (ipykernel)",
   "language": "python",
   "name": "python3"
  },
  "language_info": {
   "codemirror_mode": {
    "name": "ipython",
    "version": 3
   },
   "file_extension": ".py",
   "mimetype": "text/x-python",
   "name": "python",
   "nbconvert_exporter": "python",
   "pygments_lexer": "ipython3",
   "version": "3.11.7"
  }
 },
 "nbformat": 4,
 "nbformat_minor": 5
}
