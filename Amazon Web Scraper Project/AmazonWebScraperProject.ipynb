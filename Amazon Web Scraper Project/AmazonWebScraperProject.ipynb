{
 "cells": [
  {
   "cell_type": "code",
   "execution_count": 1,
   "id": "c8577c7e-6981-45ba-a1c2-55ef06ef5f75",
   "metadata": {},
   "outputs": [],
   "source": [
    "# import libraries \n",
    "\n",
    "from bs4 import BeautifulSoup\n",
    "import requests\n",
    "import time\n",
    "import datetime\n",
    "import pandas as pd\n",
    "import numpy as np"
   ]
  },
  {
   "cell_type": "code",
   "execution_count": 2,
   "id": "534f6705-f35a-4086-b8c5-953759563d31",
   "metadata": {},
   "outputs": [],
   "source": [
    "# Function to extract Product Title\n",
    "def title(soup):\n",
    "\n",
    "    try:\n",
    "        # Outer Tag Object\n",
    "        title = soup.find(\"span\", attrs={\"id\":'productTitle'})\n",
    "        \n",
    "        # Inner NavigatableString Object\n",
    "        title_value = title.text\n",
    "\n",
    "        # Title as a string value\n",
    "        title_string = title_value.strip()\n",
    "\n",
    "    except AttributeError:\n",
    "        title_string = \"\"\n",
    "\n",
    "    return title_string\n",
    "\n",
    "# Function to extract Product Price\n",
    "def price(soup):\n",
    "\n",
    "    try:\n",
    "        price = soup.find(\"span\", attrs={'class':'a-price aok-align-center'}).string.strip()\n",
    "\n",
    "    except AttributeError:\n",
    "\n",
    "        try:\n",
    "            # If there is some deal price\n",
    "            price = soup.find(\"span\", attrs={'class':'a-offscreen'}).string.strip()\n",
    "\n",
    "        except:\n",
    "            price = \"\"\n",
    "\n",
    "    return price\n",
    "\n",
    "# Function to extract Product Rating\n",
    "def rating(soup):\n",
    "\n",
    "    try:\n",
    "        rating = soup.find(\"i\", attrs={'class':'a-icon a-icon-star a-star-4-5'}).string.strip()\n",
    "    \n",
    "    except AttributeError:\n",
    "        try:\n",
    "            rating = soup.find(\"span\", attrs={'class':'a-icon-alt'}).string.strip()\n",
    "        except:\n",
    "            rating = \"\"\t\n",
    "\n",
    "    return rating\n",
    "\n",
    "\n",
    "# Function to extract Availability Status\n",
    "def availability(soup):\n",
    "    try:\n",
    "        available = soup.find(\"div\", attrs={'id':'availability'})\n",
    "        available = available.find(\"span\").string.strip()\n",
    "\n",
    "    except AttributeError:\n",
    "        available = \"Not Available\"\t\n",
    "\n",
    "    return available"
   ]
  },
  {
   "cell_type": "code",
   "execution_count": null,
   "id": "05d2d98a-e316-4fea-8b17-431793bfeaad",
   "metadata": {},
   "outputs": [],
   "source": []
  },
  {
   "cell_type": "code",
   "execution_count": 3,
   "id": "70665f97-73ea-4859-ba15-f0ec749c8d21",
   "metadata": {},
   "outputs": [],
   "source": [
    "def check_products():\n",
    "\n",
    "    URL = 'https://www.amazon.com/s?k=laptops&crid=3LYVXJDZZVGD0&sprefix=laptops%2Caps%2C501&ref=nb_sb_noss_1'\n",
    "\n",
    "    headers = {\"User-Agent\": \"Mozilla/5.0 (Windows NT 10.0; Win64; x64) AppleWebKit/537.36 (KHTML, like Gecko) Chrome/126.0.0.0 Safari/537.36\", \"Accept-Language\":\"en-us,en:q=0.5\"}\n",
    "\n",
    "    page = requests.get(URL, headers = headers)\n",
    "\n",
    "    soup = BeautifulSoup(page.content, \"html.parser\")\n",
    "    \n",
    "\n",
    "    links = soup.find_all('a',attrs={'class':\"a-link-normal s-underline-text s-underline-link-text s-link-style a-text-normal\"})\n",
    "\n",
    "    link_list = []\n",
    "    \n",
    "    # Create a Timestamp for your output to track when data was collected\n",
    "    \n",
    "    import datetime\n",
    "    today = datetime.date.today()\n",
    "    \n",
    "    for link in links:\n",
    "        link_list.append(link.get('href'))\n",
    "        \n",
    "    d = {\"title\":[], \"price\":[], \"rating\":[], \"date\":[],\"availability\":[]}\n",
    "\n",
    "    for link in link_list:\n",
    "        \n",
    "        new_page = requests.get(\"https://www.amazon.com\" + link, headers=headers)\n",
    "\n",
    "        soup1 = BeautifulSoup(new_page.content, \"html.parser\")\n",
    "        \n",
    "\n",
    "          # Function calls to display all necessary product information\n",
    "        d['title'].append(title(soup1))\n",
    "        d['price'].append(price(soup1))\n",
    "        d['rating'].append(rating(soup1))\n",
    "        d['date'].append(today)\n",
    "        d['availability'].append(availability(soup1))\n",
    "\n",
    "    \n",
    "    amazon_df = pd.DataFrame.from_dict(d)\n",
    "    amazon_df['title'].replace('', np.nan, inplace=True)\n",
    "    amazon_df = amazon_df.dropna(subset=['title'])\n",
    "    amazon_df.to_csv(\"amazonwebscraperproject_data.csv\", header=True, index=False)\n",
    " \n",
    "    return(amazon_df)\n",
    "    \n"
   ]
  },
  {
   "cell_type": "code",
   "execution_count": 4,
   "id": "b5e4038a-efbc-420e-a043-587496a1f554",
   "metadata": {},
   "outputs": [
    {
     "data": {
      "text/html": [
       "<div>\n",
       "<style scoped>\n",
       "    .dataframe tbody tr th:only-of-type {\n",
       "        vertical-align: middle;\n",
       "    }\n",
       "\n",
       "    .dataframe tbody tr th {\n",
       "        vertical-align: top;\n",
       "    }\n",
       "\n",
       "    .dataframe thead th {\n",
       "        text-align: right;\n",
       "    }\n",
       "</style>\n",
       "<table border=\"1\" class=\"dataframe\">\n",
       "  <thead>\n",
       "    <tr style=\"text-align: right;\">\n",
       "      <th></th>\n",
       "      <th>title</th>\n",
       "      <th>price</th>\n",
       "      <th>rating</th>\n",
       "      <th>date</th>\n",
       "      <th>availability</th>\n",
       "    </tr>\n",
       "  </thead>\n",
       "  <tbody>\n",
       "    <tr>\n",
       "      <th>0</th>\n",
       "      <td>Lenovo IdeaPad 1 Laptop, 15.6” FHD Display, AM...</td>\n",
       "      <td>$329.99</td>\n",
       "      <td>4.3 out of 5 stars</td>\n",
       "      <td>2024-07-28</td>\n",
       "      <td>In Stock</td>\n",
       "    </tr>\n",
       "    <tr>\n",
       "      <th>1</th>\n",
       "      <td>ASUS 15.6” Vivobook Go Laptop, Intel Celeron N...</td>\n",
       "      <td>$189.99</td>\n",
       "      <td>4.2 out of 5 stars</td>\n",
       "      <td>2024-07-28</td>\n",
       "      <td>In Stock</td>\n",
       "    </tr>\n",
       "    <tr>\n",
       "      <th>2</th>\n",
       "      <td>HP Newest 14\" Ultral Light Laptop for Students...</td>\n",
       "      <td>$249.99</td>\n",
       "      <td>4.1 out of 5 stars</td>\n",
       "      <td>2024-07-28</td>\n",
       "      <td>In Stock</td>\n",
       "    </tr>\n",
       "    <tr>\n",
       "      <th>3</th>\n",
       "      <td>Acer Aspire 3 A315-24P-R7VH Slim Laptop | 15.6...</td>\n",
       "      <td>$299.99</td>\n",
       "      <td>4.3 out of 5 stars</td>\n",
       "      <td>2024-07-28</td>\n",
       "      <td>In Stock</td>\n",
       "    </tr>\n",
       "    <tr>\n",
       "      <th>4</th>\n",
       "      <td>HP 17 Business Laptop, 17.3” HD+ Display, 11th...</td>\n",
       "      <td>$492.88</td>\n",
       "      <td>4.3 out of 5 stars</td>\n",
       "      <td>2024-07-28</td>\n",
       "      <td>Only 2 left in stock - order soon.</td>\n",
       "    </tr>\n",
       "    <tr>\n",
       "      <th>5</th>\n",
       "      <td>HP Portable Laptop, Student and Business, 14\" ...</td>\n",
       "      <td>$218.00</td>\n",
       "      <td>4.1 out of 5 stars</td>\n",
       "      <td>2024-07-28</td>\n",
       "      <td>Only 7 left in stock - order soon.</td>\n",
       "    </tr>\n",
       "    <tr>\n",
       "      <th>6</th>\n",
       "      <td>HP Notebook Laptop, 15.6\" HD Touchscreen, Inte...</td>\n",
       "      <td>$433.92</td>\n",
       "      <td>4.2 out of 5 stars</td>\n",
       "      <td>2024-07-28</td>\n",
       "      <td>In Stock</td>\n",
       "    </tr>\n",
       "    <tr>\n",
       "      <th>7</th>\n",
       "      <td>ACEMAGIC Laptop Computer, 16GB DDR4 512GB SSD,...</td>\n",
       "      <td>$359.99</td>\n",
       "      <td>4.0 out of 5 stars</td>\n",
       "      <td>2024-07-28</td>\n",
       "      <td>In Stock</td>\n",
       "    </tr>\n",
       "    <tr>\n",
       "      <th>8</th>\n",
       "      <td>HP 14 Laptop, Intel Celeron N4020, 4 GB RAM, 6...</td>\n",
       "      <td>$188.31</td>\n",
       "      <td>3.9 out of 5 stars</td>\n",
       "      <td>2024-07-28</td>\n",
       "      <td>In Stock</td>\n",
       "    </tr>\n",
       "    <tr>\n",
       "      <th>9</th>\n",
       "      <td>HP 15.6\" Portable Laptop (Include 1 Year Micro...</td>\n",
       "      <td>$296.00</td>\n",
       "      <td>4.2 out of 5 stars</td>\n",
       "      <td>2024-07-28</td>\n",
       "      <td>In Stock</td>\n",
       "    </tr>\n",
       "    <tr>\n",
       "      <th>10</th>\n",
       "      <td>Lenovo Newest 15.6\" FHD Laptop, Intel Pentium ...</td>\n",
       "      <td>$378.99</td>\n",
       "      <td>4.2 out of 5 stars</td>\n",
       "      <td>2024-07-28</td>\n",
       "      <td>In Stock</td>\n",
       "    </tr>\n",
       "    <tr>\n",
       "      <th>11</th>\n",
       "      <td>acer Chromebook Spin 514 CP514-1H-R0VX Laptop ...</td>\n",
       "      <td>$335.63</td>\n",
       "      <td>4.6 out of 5 stars</td>\n",
       "      <td>2024-07-28</td>\n",
       "      <td>In Stock</td>\n",
       "    </tr>\n",
       "    <tr>\n",
       "      <th>12</th>\n",
       "      <td>HP Stream 14\" HD BrightView Laptop, Intel Cele...</td>\n",
       "      <td>$298.99</td>\n",
       "      <td>4.4 out of 5 stars</td>\n",
       "      <td>2024-07-28</td>\n",
       "      <td>Only 8 left in stock - order soon.</td>\n",
       "    </tr>\n",
       "    <tr>\n",
       "      <th>13</th>\n",
       "      <td>ASUS ROG Strix G16 (2024) Gaming Laptop, 16” 1...</td>\n",
       "      <td>$1,164.99</td>\n",
       "      <td>4.4 out of 5 stars</td>\n",
       "      <td>2024-07-28</td>\n",
       "      <td>In Stock</td>\n",
       "    </tr>\n",
       "    <tr>\n",
       "      <th>14</th>\n",
       "      <td>ASUS Vivobook 16” WUXGA Laptop, Intel Core i5-...</td>\n",
       "      <td>$479.99</td>\n",
       "      <td>Previous page of related Sponsored Products</td>\n",
       "      <td>2024-07-28</td>\n",
       "      <td>In Stock</td>\n",
       "    </tr>\n",
       "    <tr>\n",
       "      <th>15</th>\n",
       "      <td>Lenovo Newest 15.6\" Laptop, Intel Pentium 4-co...</td>\n",
       "      <td>$549.99</td>\n",
       "      <td>4.4 out of 5 stars</td>\n",
       "      <td>2024-07-28</td>\n",
       "      <td>In Stock</td>\n",
       "    </tr>\n",
       "    <tr>\n",
       "      <th>16</th>\n",
       "      <td>Dell Latitude 3540 15.6\" FHD Business Laptop C...</td>\n",
       "      <td>$819.00</td>\n",
       "      <td>4.4 out of 5 stars</td>\n",
       "      <td>2024-07-28</td>\n",
       "      <td>In Stock</td>\n",
       "    </tr>\n",
       "    <tr>\n",
       "      <th>17</th>\n",
       "      <td>Lenovo Ideapad Laptop Touchscreen 15.6\" FHD, I...</td>\n",
       "      <td>$519.00</td>\n",
       "      <td>4.3 out of 5 stars</td>\n",
       "      <td>2024-07-28</td>\n",
       "      <td>In Stock</td>\n",
       "    </tr>\n",
       "    <tr>\n",
       "      <th>18</th>\n",
       "      <td>Original 19.5V 7.7A 150W MSI Chicony Adapter A...</td>\n",
       "      <td>$38.99</td>\n",
       "      <td>5.0 out of 5 stars</td>\n",
       "      <td>2024-07-28</td>\n",
       "      <td>In Stock</td>\n",
       "    </tr>\n",
       "    <tr>\n",
       "      <th>19</th>\n",
       "      <td>300W AC Power Charger Suitable for Lenovo R900...</td>\n",
       "      <td>$52.00</td>\n",
       "      <td>4.7 out of 5 stars</td>\n",
       "      <td>2024-07-28</td>\n",
       "      <td>Only 13 left in stock - order soon.</td>\n",
       "    </tr>\n",
       "    <tr>\n",
       "      <th>20</th>\n",
       "      <td>Genuine 230W 19.5V 11.8A AC Charger fit for HP...</td>\n",
       "      <td>$68.99</td>\n",
       "      <td>4.4 out of 5 stars</td>\n",
       "      <td>2024-07-28</td>\n",
       "      <td>In Stock</td>\n",
       "    </tr>\n",
       "  </tbody>\n",
       "</table>\n",
       "</div>"
      ],
      "text/plain": [
       "                                                title      price  \\\n",
       "0   Lenovo IdeaPad 1 Laptop, 15.6” FHD Display, AM...    $329.99   \n",
       "1   ASUS 15.6” Vivobook Go Laptop, Intel Celeron N...    $189.99   \n",
       "2   HP Newest 14\" Ultral Light Laptop for Students...    $249.99   \n",
       "3   Acer Aspire 3 A315-24P-R7VH Slim Laptop | 15.6...    $299.99   \n",
       "4   HP 17 Business Laptop, 17.3” HD+ Display, 11th...    $492.88   \n",
       "5   HP Portable Laptop, Student and Business, 14\" ...    $218.00   \n",
       "6   HP Notebook Laptop, 15.6\" HD Touchscreen, Inte...    $433.92   \n",
       "7   ACEMAGIC Laptop Computer, 16GB DDR4 512GB SSD,...    $359.99   \n",
       "8   HP 14 Laptop, Intel Celeron N4020, 4 GB RAM, 6...    $188.31   \n",
       "9   HP 15.6\" Portable Laptop (Include 1 Year Micro...    $296.00   \n",
       "10  Lenovo Newest 15.6\" FHD Laptop, Intel Pentium ...    $378.99   \n",
       "11  acer Chromebook Spin 514 CP514-1H-R0VX Laptop ...    $335.63   \n",
       "12  HP Stream 14\" HD BrightView Laptop, Intel Cele...    $298.99   \n",
       "13  ASUS ROG Strix G16 (2024) Gaming Laptop, 16” 1...  $1,164.99   \n",
       "14  ASUS Vivobook 16” WUXGA Laptop, Intel Core i5-...    $479.99   \n",
       "15  Lenovo Newest 15.6\" Laptop, Intel Pentium 4-co...    $549.99   \n",
       "16  Dell Latitude 3540 15.6\" FHD Business Laptop C...    $819.00   \n",
       "17  Lenovo Ideapad Laptop Touchscreen 15.6\" FHD, I...    $519.00   \n",
       "18  Original 19.5V 7.7A 150W MSI Chicony Adapter A...     $38.99   \n",
       "19  300W AC Power Charger Suitable for Lenovo R900...     $52.00   \n",
       "20  Genuine 230W 19.5V 11.8A AC Charger fit for HP...     $68.99   \n",
       "\n",
       "                                         rating        date  \\\n",
       "0                            4.3 out of 5 stars  2024-07-28   \n",
       "1                            4.2 out of 5 stars  2024-07-28   \n",
       "2                            4.1 out of 5 stars  2024-07-28   \n",
       "3                            4.3 out of 5 stars  2024-07-28   \n",
       "4                            4.3 out of 5 stars  2024-07-28   \n",
       "5                            4.1 out of 5 stars  2024-07-28   \n",
       "6                            4.2 out of 5 stars  2024-07-28   \n",
       "7                            4.0 out of 5 stars  2024-07-28   \n",
       "8                            3.9 out of 5 stars  2024-07-28   \n",
       "9                            4.2 out of 5 stars  2024-07-28   \n",
       "10                           4.2 out of 5 stars  2024-07-28   \n",
       "11                           4.6 out of 5 stars  2024-07-28   \n",
       "12                           4.4 out of 5 stars  2024-07-28   \n",
       "13                           4.4 out of 5 stars  2024-07-28   \n",
       "14  Previous page of related Sponsored Products  2024-07-28   \n",
       "15                           4.4 out of 5 stars  2024-07-28   \n",
       "16                           4.4 out of 5 stars  2024-07-28   \n",
       "17                           4.3 out of 5 stars  2024-07-28   \n",
       "18                           5.0 out of 5 stars  2024-07-28   \n",
       "19                           4.7 out of 5 stars  2024-07-28   \n",
       "20                           4.4 out of 5 stars  2024-07-28   \n",
       "\n",
       "                           availability  \n",
       "0                              In Stock  \n",
       "1                              In Stock  \n",
       "2                              In Stock  \n",
       "3                              In Stock  \n",
       "4    Only 2 left in stock - order soon.  \n",
       "5    Only 7 left in stock - order soon.  \n",
       "6                              In Stock  \n",
       "7                              In Stock  \n",
       "8                              In Stock  \n",
       "9                              In Stock  \n",
       "10                             In Stock  \n",
       "11                             In Stock  \n",
       "12   Only 8 left in stock - order soon.  \n",
       "13                             In Stock  \n",
       "14                             In Stock  \n",
       "15                             In Stock  \n",
       "16                             In Stock  \n",
       "17                             In Stock  \n",
       "18                             In Stock  \n",
       "19  Only 13 left in stock - order soon.  \n",
       "20                             In Stock  "
      ]
     },
     "execution_count": 4,
     "metadata": {},
     "output_type": "execute_result"
    }
   ],
   "source": [
    "check_products()"
   ]
  },
  {
   "cell_type": "code",
   "execution_count": null,
   "id": "03318c7b-f569-4c99-b33f-ae1a19e89fc3",
   "metadata": {},
   "outputs": [],
   "source": []
  },
  {
   "cell_type": "markdown",
   "id": "cca40f00-b888-4b32-9ece-a3f5cafa870c",
   "metadata": {},
   "source": [
    "Initial Steps For Automating Process"
   ]
  },
  {
   "cell_type": "code",
   "execution_count": null,
   "id": "454a99e5-7fc6-4487-b4c2-c6bf2989d75e",
   "metadata": {},
   "outputs": [],
   "source": []
  },
  {
   "cell_type": "code",
   "execution_count": 14,
   "id": "ec7b5041-504f-40da-9f0a-aae946431eb8",
   "metadata": {},
   "outputs": [],
   "source": [
    "# Connect to Website and pull in data\n",
    "\n",
    "URL = 'https://www.amazon.com/s?k=laptops&crid=3LYVXJDZZVGD0&sprefix=laptops%2Caps%2C501&ref=nb_sb_noss_1'\n",
    "\n",
    "headers = {\"User-Agent\": \"Mozilla/5.0 (Windows NT 10.0; Win64; x64) AppleWebKit/537.36 (KHTML, like Gecko) Chrome/126.0.0.0 Safari/537.36\", \"Accept-Language\":\"en-us,en:q=0.5\"}\n",
    "\n",
    "page = requests.get(URL, headers = headers)\n",
    "\n",
    "soup = BeautifulSoup(page.content, \"html.parser\")"
   ]
  },
  {
   "cell_type": "code",
   "execution_count": 15,
   "id": "5d881611-b8ef-4f77-be19-a0e47691c221",
   "metadata": {},
   "outputs": [],
   "source": [
    "links = soup.find_all('a',attrs={'class':\"a-link-normal s-underline-text s-underline-link-text s-link-style a-text-normal\"})"
   ]
  },
  {
   "cell_type": "code",
   "execution_count": 16,
   "id": "9b554523-e741-402f-9050-864536a39595",
   "metadata": {},
   "outputs": [],
   "source": [
    "link = links[0].get('href')"
   ]
  },
  {
   "cell_type": "code",
   "execution_count": 17,
   "id": "ed129af5-1407-4032-ad4b-a50da2fa84c2",
   "metadata": {},
   "outputs": [],
   "source": [
    "product_list = 'https://Amazon.com' + link"
   ]
  },
  {
   "cell_type": "code",
   "execution_count": 18,
   "id": "f20bc264-3396-4116-a90a-b1c8da688585",
   "metadata": {},
   "outputs": [
    {
     "data": {
      "text/plain": [
       "'https://Amazon.com/Lenovo-IdeaPad-Ryzen5-5500U-1920x1080-Storage/dp/B0CJB5N9BQ/ref=sr_1_1?crid=3LYVXJDZZVGD0&dib=eyJ2IjoiMSJ9.5b3mhwD9PdnPIUWzyX2WWbZpxLmMEX-arquJnDUczxiQ7_0TCUz8JjVBPzt5xn_zD-IJbWeawoETFvwfxoZl3-XsquLkOlrBEGexje-nF_xdUyBL1GDJ3-pykLO8NzsTUl_DSA4TcK12IisQ4ZiP8s91XqvCtcOQsf8wg0AHoSFwV79P9HGHfAEPsAcvqOpVYL7lVRuYfl64Z7cI3vZd987VI7ZpRzr-DRNvFwG1SmQ.xb305N2FpqmOLybi8zAjOUVF4NWRwzzgY4hIsvX36p8&dib_tag=se&keywords=laptops&qid=1722169275&sprefix=laptops%2Caps%2C501&sr=8-1'"
      ]
     },
     "execution_count": 18,
     "metadata": {},
     "output_type": "execute_result"
    }
   ],
   "source": [
    "product_list"
   ]
  },
  {
   "cell_type": "code",
   "execution_count": 19,
   "id": "64949805-de8a-4668-8a0c-a3d81b45f396",
   "metadata": {},
   "outputs": [],
   "source": [
    "new_page = requests.get(product_list, headers = headers)"
   ]
  },
  {
   "cell_type": "code",
   "execution_count": 20,
   "id": "4c6ca483-4f38-4fd9-9be0-13a1bbb8059e",
   "metadata": {},
   "outputs": [
    {
     "data": {
      "text/plain": [
       "<Response [200]>"
      ]
     },
     "execution_count": 20,
     "metadata": {},
     "output_type": "execute_result"
    }
   ],
   "source": [
    "new_page"
   ]
  },
  {
   "cell_type": "code",
   "execution_count": 21,
   "id": "138cc320-f786-44ad-ae46-ce3a36398667",
   "metadata": {},
   "outputs": [],
   "source": [
    "soup1 = BeautifulSoup(new_page.content, \"html.parser\")"
   ]
  },
  {
   "cell_type": "code",
   "execution_count": 22,
   "id": "5e43b470-5882-4fd3-b394-0329ddbb1ee1",
   "metadata": {},
   "outputs": [
    {
     "data": {
      "text/plain": [
       "'Lenovo IdeaPad 1 Laptop, 15.6” FHD Display, AMD Ryzen 5 5500U, 8GB RAM, 512GB SSD, Windows 11 Home, 720p Camera w/Privacy Shutter, Smart Noise Cancelling, Cloud Grey'"
      ]
     },
     "execution_count": 22,
     "metadata": {},
     "output_type": "execute_result"
    }
   ],
   "source": [
    "soup1.find('span', attrs = {'id' : \"productTitle\"}).text.strip()"
   ]
  },
  {
   "cell_type": "code",
   "execution_count": 23,
   "id": "0ee05415-0ce3-4dbb-9228-5e1cbede3a98",
   "metadata": {},
   "outputs": [
    {
     "data": {
      "text/plain": [
       "'$329.99'"
      ]
     },
     "execution_count": 23,
     "metadata": {},
     "output_type": "execute_result"
    }
   ],
   "source": [
    "soup1.find('span', attrs = {'class' : \"a-price aok-align-center\"}).find('span',attrs = {'class':'a-offscreen'}).text.strip()"
   ]
  },
  {
   "cell_type": "code",
   "execution_count": 24,
   "id": "7e2e5dd2-c564-4f95-b43e-1e36f3749376",
   "metadata": {},
   "outputs": [
    {
     "data": {
      "text/plain": [
       "'4.3 out of 5 stars'"
      ]
     },
     "execution_count": 24,
     "metadata": {},
     "output_type": "execute_result"
    }
   ],
   "source": [
    " soup1.find('span', attrs = {'class' : \"a-icon-alt\"}).text.strip()"
   ]
  },
  {
   "cell_type": "code",
   "execution_count": 25,
   "id": "369d1801-3361-4eed-a9be-739e3b411388",
   "metadata": {},
   "outputs": [
    {
     "data": {
      "text/plain": [
       "'In Stock'"
      ]
     },
     "execution_count": 25,
     "metadata": {},
     "output_type": "execute_result"
    }
   ],
   "source": [
    " soup1.find('div', attrs = {'id':\"availability\"}).find('span').text.strip()"
   ]
  },
  {
   "cell_type": "code",
   "execution_count": null,
   "id": "760c0720-f717-4f3b-a404-66040455a657",
   "metadata": {},
   "outputs": [],
   "source": []
  }
 ],
 "metadata": {
  "kernelspec": {
   "display_name": "Python 3 (ipykernel)",
   "language": "python",
   "name": "python3"
  },
  "language_info": {
   "codemirror_mode": {
    "name": "ipython",
    "version": 3
   },
   "file_extension": ".py",
   "mimetype": "text/x-python",
   "name": "python",
   "nbconvert_exporter": "python",
   "pygments_lexer": "ipython3",
   "version": "3.11.7"
  }
 },
 "nbformat": 4,
 "nbformat_minor": 5
}
